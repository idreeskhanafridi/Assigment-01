{
  "nbformat": 4,
  "nbformat_minor": 0,
  "metadata": {
    "colab": {
      "provenance": [],
      "authorship_tag": "ABX9TyPFDpRNET3la/YiHVpyGyrB",
      "include_colab_link": true
    },
    "kernelspec": {
      "name": "python3",
      "display_name": "Python 3"
    },
    "language_info": {
      "name": "python"
    }
  },
  "cells": [
    {
      "cell_type": "markdown",
      "metadata": {
        "id": "view-in-github",
        "colab_type": "text"
      },
      "source": [
        "<a href=\"https://colab.research.google.com/github/idreeskhanafridi/Assigment-01/blob/master/M_Idrees_SP20_BSE_023_B.ipynb\" target=\"_parent\"><img src=\"https://colab.research.google.com/assets/colab-badge.svg\" alt=\"Open In Colab\"/></a>"
      ]
    },
    {
      "cell_type": "code",
      "execution_count": null,
      "metadata": {
        "colab": {
          "base_uri": "https://localhost:8080/"
        },
        "id": "-SvhvF_1p7L7",
        "outputId": "27d69a93-d574-4956-a773-afba66d876b6"
      },
      "outputs": [
        {
          "metadata": {
            "tags": null
          },
          "name": "stdout",
          "output_type": "stream",
          "text": [
            "Downloading data from https://www.cs.toronto.edu/~kriz/cifar-10-python.tar.gz\n",
            "170498071/170498071 [==============================] - 2s 0us/step\n",
            "x_train shape: (50000, 32, 32, 3)\n",
            "50000 train samples\n",
            "10000 test samples\n",
            "Model: \"sequential\"\n",
            "_________________________________________________________________\n",
            " Layer (type)                Output Shape              Param #   \n",
            "=================================================================\n",
            " conv2d (Conv2D)             (None, 30, 30, 32)        896       \n",
            "                                                                 \n",
            " max_pooling2d (MaxPooling2  (None, 15, 15, 32)        0         \n",
            " D)                                                              \n",
            "                                                                 \n",
            " dropout (Dropout)           (None, 15, 15, 32)        0         \n",
            "                                                                 \n",
            " conv2d_1 (Conv2D)           (None, 13, 13, 64)        18496     \n",
            "                                                                 \n",
            " max_pooling2d_1 (MaxPoolin  (None, 6, 6, 64)          0         \n",
            " g2D)                                                            \n",
            "                                                                 \n",
            " dropout_1 (Dropout)         (None, 6, 6, 64)          0         \n",
            "                                                                 \n",
            " conv2d_2 (Conv2D)           (None, 4, 4, 128)         73856     \n",
            "                                                                 \n",
            " max_pooling2d_2 (MaxPoolin  (None, 2, 2, 128)         0         \n",
            " g2D)                                                            \n",
            "                                                                 \n",
            " dropout_2 (Dropout)         (None, 2, 2, 128)         0         \n",
            "                                                                 \n",
            " flatten (Flatten)           (None, 512)               0         \n",
            "                                                                 \n",
            " dense (Dense)               (None, 80)                41040     \n",
            "                                                                 \n",
            " dropout_3 (Dropout)         (None, 80)                0         \n",
            "                                                                 \n",
            " dense_1 (Dense)             (None, 10)                810       \n",
            "                                                                 \n",
            "=================================================================\n",
            "Total params: 135098 (527.73 KB)\n",
            "Trainable params: 135098 (527.73 KB)\n",
            "Non-trainable params: 0 (0.00 Byte)\n",
            "_________________________________________________________________\n",
            "None\n"
          ]
        },
        {
          "metadata": {
            "tags": null
          },
          "name": "stderr",
          "output_type": "stream",
          "text": [
            "<ipython-input-2-5d9e58a472f6>:72: UserWarning: `Model.fit_generator` is deprecated and will be removed in a future version. Please use `Model.fit`, which supports generators.\n",
            "  history1 = model.fit_generator(datagen.flow(x_train, y_train, batch_size=batch_size),\\\n"
          ]
        },
        {
          "output_type": "stream",
          "name": "stdout",
          "text": [
            "Epoch 1/125\n",
            "390/390 [==============================] - 105s 265ms/step - loss: 1.8464 - accuracy: 0.3093 - val_loss: 1.5331 - val_accuracy: 0.4492\n",
            "Epoch 2/125\n",
            "390/390 [==============================] - 106s 271ms/step - loss: 1.5231 - accuracy: 0.4415 - val_loss: 1.3031 - val_accuracy: 0.5366\n",
            "Epoch 3/125\n",
            "390/390 [==============================] - 103s 264ms/step - loss: 1.4055 - accuracy: 0.4927 - val_loss: 1.2221 - val_accuracy: 0.5675\n",
            "Epoch 4/125\n",
            "390/390 [==============================] - 102s 263ms/step - loss: 1.3305 - accuracy: 0.5209 - val_loss: 1.1233 - val_accuracy: 0.6058\n",
            "Epoch 5/125\n",
            "390/390 [==============================] - 98s 252ms/step - loss: 1.2679 - accuracy: 0.5491 - val_loss: 1.0563 - val_accuracy: 0.6331\n",
            "Epoch 6/125\n",
            "390/390 [==============================] - 100s 257ms/step - loss: 1.2268 - accuracy: 0.5672 - val_loss: 0.9861 - val_accuracy: 0.6536\n",
            "Epoch 7/125\n",
            "390/390 [==============================] - 99s 253ms/step - loss: 1.1936 - accuracy: 0.5802 - val_loss: 1.0351 - val_accuracy: 0.6433\n",
            "Epoch 8/125\n",
            "390/390 [==============================] - 102s 262ms/step - loss: 1.1573 - accuracy: 0.5906 - val_loss: 0.9506 - val_accuracy: 0.6688\n",
            "Epoch 9/125\n",
            "390/390 [==============================] - 101s 257ms/step - loss: 1.1305 - accuracy: 0.6018 - val_loss: 0.9553 - val_accuracy: 0.6646\n",
            "Epoch 10/125\n",
            "390/390 [==============================] - 102s 260ms/step - loss: 1.1106 - accuracy: 0.6113 - val_loss: 0.9536 - val_accuracy: 0.6716\n",
            "Epoch 11/125\n",
            "390/390 [==============================] - 96s 246ms/step - loss: 1.0911 - accuracy: 0.6172 - val_loss: 0.8977 - val_accuracy: 0.6849\n",
            "Epoch 12/125\n",
            "390/390 [==============================] - 100s 255ms/step - loss: 1.0723 - accuracy: 0.6231 - val_loss: 0.8835 - val_accuracy: 0.6927\n",
            "Epoch 13/125\n",
            "390/390 [==============================] - 100s 256ms/step - loss: 1.0581 - accuracy: 0.6285 - val_loss: 0.8710 - val_accuracy: 0.6933\n",
            "Epoch 14/125\n",
            "390/390 [==============================] - 103s 265ms/step - loss: 1.0552 - accuracy: 0.6303 - val_loss: 0.8629 - val_accuracy: 0.7014\n",
            "Epoch 15/125\n",
            "390/390 [==============================] - 101s 258ms/step - loss: 1.0405 - accuracy: 0.6374 - val_loss: 0.8581 - val_accuracy: 0.6971\n",
            "Epoch 16/125\n",
            "390/390 [==============================] - 92s 236ms/step - loss: 1.0270 - accuracy: 0.6432 - val_loss: 0.8220 - val_accuracy: 0.7124\n",
            "Epoch 17/125\n",
            "390/390 [==============================] - 94s 242ms/step - loss: 1.0175 - accuracy: 0.6443 - val_loss: 0.7976 - val_accuracy: 0.7219\n",
            "Epoch 18/125\n",
            "390/390 [==============================] - 93s 237ms/step - loss: 1.0113 - accuracy: 0.6482 - val_loss: 0.8034 - val_accuracy: 0.7181\n",
            "Epoch 19/125\n",
            "390/390 [==============================] - 95s 244ms/step - loss: 1.0085 - accuracy: 0.6491 - val_loss: 0.7885 - val_accuracy: 0.7281\n",
            "Epoch 20/125\n",
            "390/390 [==============================] - 92s 237ms/step - loss: 1.0021 - accuracy: 0.6521 - val_loss: 0.8365 - val_accuracy: 0.7099\n",
            "Epoch 21/125\n",
            "390/390 [==============================] - 95s 243ms/step - loss: 0.9921 - accuracy: 0.6541 - val_loss: 0.7838 - val_accuracy: 0.7256\n",
            "Epoch 22/125\n",
            "390/390 [==============================] - 94s 241ms/step - loss: 0.9856 - accuracy: 0.6565 - val_loss: 0.8039 - val_accuracy: 0.7195\n",
            "Epoch 23/125\n",
            "390/390 [==============================] - 95s 243ms/step - loss: 0.9726 - accuracy: 0.6632 - val_loss: 0.7713 - val_accuracy: 0.7313\n",
            "Epoch 24/125\n",
            "390/390 [==============================] - 95s 244ms/step - loss: 0.9760 - accuracy: 0.6611 - val_loss: 0.7789 - val_accuracy: 0.7261\n",
            "Epoch 25/125\n",
            "390/390 [==============================] - 94s 242ms/step - loss: 0.9688 - accuracy: 0.6621 - val_loss: 0.7323 - val_accuracy: 0.7440\n",
            "Epoch 26/125\n",
            "124/390 [========>.....................] - ETA: 1:01 - loss: 0.9673 - accuracy: 0.6665"
          ]
        }
      ],
      "source": [
        "import numpy as np\n",
        "import pandas as pd\n",
        "import tensorflow as tf\n",
        "from keras.models import Sequential\n",
        "from keras.layers import Dense, Dropout, Flatten, Activation, BatchNormalization, Conv2D, MaxPooling2D, AveragePooling2D\n",
        "from keras.optimizers import Adam\n",
        "from keras.utils import to_categorical\n",
        "from keras.datasets import cifar10\n",
        "import keras as k\n",
        "import os\n",
        "from keras.preprocessing import image\n",
        "from keras.preprocessing.image import ImageDataGenerator\n",
        "from keras.callbacks import EarlyStopping\n",
        "\n",
        "batch_size = 128\n",
        "num_classes = 10\n",
        "epochs = 15\n",
        "\n",
        "(x_train, y_train), (x_test, y_test) = cifar10.load_data()\n",
        "img_rows, img_cols , channels= 32,32,3\n",
        "\n",
        "x_train = x_train.reshape(x_train.shape[0], img_rows, img_cols, channels)\n",
        "x_test = x_test.reshape(x_test.shape[0], img_rows, img_cols, channels)\n",
        "input_shape = (img_rows, img_cols, 1)\n",
        "print('x_train shape:', x_train.shape)\n",
        "print(x_train.shape[0], 'train samples')\n",
        "print(x_test.shape[0], 'test samples')\n",
        "\n",
        "x_train=x_train.astype(\"float32\")\n",
        "x_test=x_test.astype(\"float32\")\n",
        "\n",
        "mean=np.mean(x_train)\n",
        "std=np.std(x_train)\n",
        "x_test=(x_test-mean)/std\n",
        "x_train=(x_train-mean)/std\n",
        "\n",
        "\n",
        "y_train = k.utils.to_categorical(y_train, num_classes)\n",
        "y_test = k.utils.to_categorical(y_test, num_classes)\n",
        "\n",
        "datagen = ImageDataGenerator(\n",
        "    rotation_range=15,\n",
        "    horizontal_flip=True,\n",
        "    width_shift_range=0.1,\n",
        "    height_shift_range=0.1\n",
        "#    zoom_range=0.3\n",
        "    )\n",
        "datagen.fit(x_train)\n",
        "\n",
        "model = Sequential()\n",
        "\n",
        "\n",
        "model.add(Conv2D(32, kernel_size=(3, 3), input_shape=x_train.shape[1:], activation =\"relu\"))\n",
        "model.add(MaxPooling2D(pool_size=(2, 2)))\n",
        "model.add(Dropout(0.3))\n",
        "\n",
        "model.add(Conv2D(64, kernel_size=(3, 3), input_shape=x_train.shape[1:], activation =\"relu\"))\n",
        "model.add(MaxPooling2D(pool_size=(2, 2)))\n",
        "model.add(Dropout(0.3))\n",
        "\n",
        "model.add(Conv2D(128, kernel_size=(3, 3), input_shape=x_train.shape[1:], activation =\"relu\"))\n",
        "model.add(MaxPooling2D(pool_size=(2, 2)))\n",
        "model.add(Dropout(0.4))\n",
        "\n",
        "model.add(Flatten())\n",
        "model.add(Dense(80, activation='relu'))\n",
        "model.add(Dropout(0.3))\n",
        "model.add(Dense(num_classes, activation='softmax'))\n",
        "print(model.summary())\n",
        "\n",
        "model.compile(loss='categorical_crossentropy', optimizer=tf.keras.optimizers.Adam(), metrics=['accuracy'])\n",
        "history1 = model.fit_generator(datagen.flow(x_train, y_train, batch_size=batch_size),\\\n",
        "                    steps_per_epoch=x_train.shape[0] // batch_size,epochs=125,\\\n",
        "                    verbose=1,validation_data=(x_test,y_test))"
      ]
    },
    {
      "cell_type": "code",
      "source": [
        "\n"
      ],
      "metadata": {
        "id": "sQkqmUcpqc8a"
      },
      "execution_count": null,
      "outputs": []
    }
  ]
}